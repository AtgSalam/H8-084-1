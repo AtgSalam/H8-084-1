{
 "cells": [
  {
   "cell_type": "code",
   "execution_count": 1,
   "id": "861c2c1f",
   "metadata": {},
   "outputs": [
    {
     "name": "stdout",
     "output_type": "stream",
     "text": [
      "4.2\n",
      "<class 'float'>\n",
      "4.0\n",
      "0.2\n",
      "4000000.0\n",
      "0.00042\n"
     ]
    }
   ],
   "source": [
    "print(4.2)\n",
    "print(type(4.2)) #menyebutkan tipe data\n",
    "\n",
    "print(4.)\n",
    "\n",
    "print(.2)\n",
    "\n",
    "print(.4e7)\n",
    "\n",
    "print(4.2e-4)"
   ]
  },
  {
   "cell_type": "code",
   "execution_count": 2,
   "id": "64e71340",
   "metadata": {},
   "outputs": [
    {
     "name": "stdout",
     "output_type": "stream",
     "text": [
      "Hacktiv8\n"
     ]
    }
   ],
   "source": [
    "print('Hacktiv8')"
   ]
  },
  {
   "cell_type": "code",
   "execution_count": 3,
   "id": "db0a125d",
   "metadata": {},
   "outputs": [
    {
     "name": "stdout",
     "output_type": "stream",
     "text": [
      "<class 'str'>\n"
     ]
    }
   ],
   "source": [
    "print(type('Hacktiv8'))"
   ]
  },
  {
   "cell_type": "code",
   "execution_count": 4,
   "id": "4c99ac2e",
   "metadata": {},
   "outputs": [
    {
     "name": "stdout",
     "output_type": "stream",
     "text": [
      "<class 'bool'>\n",
      "<class 'bool'>\n"
     ]
    }
   ],
   "source": [
    "print(type(True))\n",
    "\n",
    "print(type(False))"
   ]
  },
  {
   "cell_type": "code",
   "execution_count": 5,
   "id": "258714ee",
   "metadata": {},
   "outputs": [
    {
     "name": "stdout",
     "output_type": "stream",
     "text": [
      "300\n"
     ]
    }
   ],
   "source": [
    "n=300\n",
    "print(n)\n"
   ]
  },
  {
   "cell_type": "code",
   "execution_count": 7,
   "id": "9358e31a",
   "metadata": {},
   "outputs": [
    {
     "name": "stdout",
     "output_type": "stream",
     "text": [
      "300 300 300\n"
     ]
    }
   ],
   "source": [
    "a=b=c=300\n",
    "print(a,b,c)"
   ]
  },
  {
   "cell_type": "code",
   "execution_count": 8,
   "id": "57da15ea",
   "metadata": {},
   "outputs": [
    {
     "name": "stdout",
     "output_type": "stream",
     "text": [
      "23.5\n",
      "Now I'm a string\n"
     ]
    }
   ],
   "source": [
    "var = 23.5\n",
    "print(var)\n",
    "\n",
    "var = \"Now I'm a string\"\n",
    "print(var)"
   ]
  },
  {
   "cell_type": "code",
   "execution_count": 15,
   "id": "5f114b6e",
   "metadata": {},
   "outputs": [
    {
     "name": "stdout",
     "output_type": "stream",
     "text": [
      "Suralaya 8 True\n"
     ]
    }
   ],
   "source": [
    "UNIT= \"Suralaya\"\n",
    "MESIN = 8\n",
    "RUNNING = True\n",
    "print(UNIT, MESIN, RUNNING)"
   ]
  },
  {
   "cell_type": "code",
   "execution_count": 16,
   "id": "6761492c",
   "metadata": {},
   "outputs": [
    {
     "name": "stdout",
     "output_type": "stream",
     "text": [
      "1 2 3 4 5 6 7 8\n"
     ]
    }
   ],
   "source": [
    "age = 1\n",
    "Age = 2\n",
    "aGe = 3\n",
    "AGE = 4\n",
    "a_g_e = 5\n",
    "_age = 6\n",
    "age_ = 7\n",
    "_AGE_ = 8\n",
    "\n",
    "print(age, Age, aGe, AGE, a_g_e, _age, age_, _AGE_)"
   ]
  },
  {
   "cell_type": "code",
   "execution_count": 17,
   "id": "a782419d",
   "metadata": {},
   "outputs": [
    {
     "data": {
      "text/plain": [
       "36"
      ]
     },
     "execution_count": 17,
     "metadata": {},
     "output_type": "execute_result"
    }
   ],
   "source": [
    "a=34\n",
    "b=2\n",
    "a+b"
   ]
  },
  {
   "cell_type": "code",
   "execution_count": 19,
   "id": "bc471382",
   "metadata": {},
   "outputs": [
    {
     "name": "stdout",
     "output_type": "stream",
     "text": [
      "3\n"
     ]
    }
   ],
   "source": [
    "a = 4\n",
    "b = 3\n",
    "print(b % a)"
   ]
  },
  {
   "cell_type": "code",
   "execution_count": 20,
   "id": "25a9da1c",
   "metadata": {},
   "outputs": [
    {
     "name": "stdout",
     "output_type": "stream",
     "text": [
      "False\n",
      "True\n",
      "True\n",
      "False\n"
     ]
    }
   ],
   "source": [
    "a = 10\n",
    "b = 20\n",
    "print(a == b) # sama dengan\n",
    "\n",
    "print(a != b) #tidak sama dengan\n",
    "\n",
    "print(a <= b) \n",
    "\n",
    "print(a >= b)\n"
   ]
  },
  {
   "cell_type": "code",
   "execution_count": 33,
   "id": "e764f8df",
   "metadata": {},
   "outputs": [
    {
     "name": "stdout",
     "output_type": "stream",
     "text": [
      "nam num \n",
      "nam num salam\n",
      "Atang salam\n",
      "Atang 86\n"
     ]
    }
   ],
   "source": [
    "# + Operators\n",
    "s = 'nam '\n",
    "t = 'num '\n",
    "u = 'salam'\n",
    "\n",
    "print(s + t)\n",
    "print(s + t + u)\n",
    "print('Atang ' + 'salam')\n",
    "print('Atang ' + '86')"
   ]
  },
  {
   "cell_type": "code",
   "execution_count": 36,
   "id": "1fe2cf3d",
   "metadata": {},
   "outputs": [
    {
     "name": "stdout",
     "output_type": "stream",
     "text": [
      "True\n",
      "False\n"
     ]
    }
   ],
   "source": [
    "s = 'nam'\n",
    "\n",
    "print(s in 'nameena Zhafira') #mencari kata2 yang similar\n",
    "\n",
    "print(s in 'numa Avara')"
   ]
  },
  {
   "cell_type": "code",
   "execution_count": 37,
   "id": "240ef11c",
   "metadata": {},
   "outputs": [
    {
     "name": "stdout",
     "output_type": "stream",
     "text": [
      "Suralaya\n",
      "suralaya\n",
      "sURALAYA\n",
      "Suralaya\n",
      "SURALAYA\n"
     ]
    }
   ],
   "source": [
    "# Case Conversion\n",
    "s = 'Suralaya'\n",
    "\n",
    "# Capitalize\n",
    "print(s.capitalize())\n",
    "\n",
    "# Lower\n",
    "print(s.lower())\n",
    "\n",
    "# Swapcase\n",
    "print(s.swapcase())\n",
    "\n",
    "# Title\n",
    "print(s.title())\n",
    "\n",
    "# Uppercase\n",
    "print(s.upper())"
   ]
  },
  {
   "cell_type": "code",
   "execution_count": 39,
   "id": "30747b1d",
   "metadata": {},
   "outputs": [
    {
     "name": "stdout",
     "output_type": "stream",
     "text": [
      "['nam', 'num', 'salam']\n"
     ]
    }
   ],
   "source": [
    "a = ['nam', 'num', 'salam']\n",
    "\n",
    "print(a)"
   ]
  },
  {
   "cell_type": "code",
   "execution_count": 50,
   "id": "df1b8225",
   "metadata": {},
   "outputs": [
    {
     "data": {
      "text/plain": [
       "True"
      ]
     },
     "execution_count": 50,
     "metadata": {},
     "output_type": "execute_result"
    }
   ],
   "source": [
    "a = ['foo', 'bar', 'baaz', 'qux']\n",
    "b = ['baz', 'qux', 'bar', 'foo']\n",
    "\n",
    "a != b"
   ]
  },
  {
   "cell_type": "code",
   "execution_count": 51,
   "id": "bb33d0a3",
   "metadata": {},
   "outputs": [
    {
     "name": "stdout",
     "output_type": "stream",
     "text": [
      "[21.42, 'foobar', 3, 4, 'bark', False, 3.14159]\n"
     ]
    }
   ],
   "source": [
    "a = [21.42, 'foobar', 3, 4, 'bark', False, 3.14159]\n",
    "\n",
    "print(a)"
   ]
  },
  {
   "cell_type": "code",
   "execution_count": 52,
   "id": "2099fb0d",
   "metadata": {},
   "outputs": [
    {
     "name": "stdout",
     "output_type": "stream",
     "text": [
      "foo\n",
      "qux\n"
     ]
    }
   ],
   "source": [
    "a = ['foo', 'bar', 'baz', 'qux', 'quux', 'corge']\n",
    "print(a[0])\n",
    "print(a[3])"
   ]
  },
  {
   "cell_type": "code",
   "execution_count": 53,
   "id": "337bca2b",
   "metadata": {},
   "outputs": [
    {
     "name": "stdout",
     "output_type": "stream",
     "text": [
      "corge\n",
      "foo\n"
     ]
    }
   ],
   "source": [
    "print(a[-1])\n",
    "print(a[-6])"
   ]
  },
  {
   "cell_type": "code",
   "execution_count": 62,
   "id": "8c712e76",
   "metadata": {},
   "outputs": [
    {
     "data": {
      "text/plain": [
       "['baaz', 'qux', 'quux']"
      ]
     },
     "execution_count": 62,
     "metadata": {},
     "output_type": "execute_result"
    }
   ],
   "source": [
    "a = ['foo', 'bar', 'baaz', 'qux', 'quux', 'corge']\n",
    "\n",
    "a[2:5]"
   ]
  },
  {
   "cell_type": "code",
   "execution_count": 63,
   "id": "9ad8e891",
   "metadata": {},
   "outputs": [
    {
     "name": "stdout",
     "output_type": "stream",
     "text": [
      "['foo', 'bar', 'baaz', 'qux', 'quux', 'corge']\n",
      "['foo', 'bar', 'baaz', 'qux', 'quux', 'corge', 'grault', 'garply']\n",
      "['foo', 'bar', 'baaz', 'qux', 'quux', 'corge', 'foo', 'bar', 'baaz', 'qux', 'quux', 'corge']\n"
     ]
    }
   ],
   "source": [
    "print(a)\n",
    "\n",
    "print(a + ['grault', 'garply'])\n",
    "print(a * 2)"
   ]
  },
  {
   "cell_type": "code",
   "execution_count": 64,
   "id": "b1b2889f",
   "metadata": {},
   "outputs": [
    {
     "name": "stdout",
     "output_type": "stream",
     "text": [
      "['foo', 'bar', 'baaz', 'qux', 'quux', 'corge']\n",
      "6\n",
      "baaz\n",
      "qux\n"
     ]
    }
   ],
   "source": [
    "print(a)\n",
    "\n",
    "print(len(a))\n",
    "print(min(a))\n",
    "print(max(a))"
   ]
  },
  {
   "cell_type": "code",
   "execution_count": 66,
   "id": "844224a2",
   "metadata": {},
   "outputs": [
    {
     "name": "stdout",
     "output_type": "stream",
     "text": [
      "['foo', 'bar', 'baz', 'qux', 'quux', 'corge']\n",
      "['foo', 'bar', 'namnum', 'qux', 'quux', 20]\n"
     ]
    }
   ],
   "source": [
    "a = ['foo', 'bar', 'baz', 'qux', 'quux', 'corge']\n",
    "\n",
    "print(a)\n",
    "\n",
    "a[2] = 'namnum'\n",
    "a[-1] = 20\n",
    "\n",
    "print(a)"
   ]
  },
  {
   "cell_type": "code",
   "execution_count": 68,
   "id": "1fd9ee23",
   "metadata": {},
   "outputs": [
    {
     "name": "stdout",
     "output_type": "stream",
     "text": [
      "['foo', 'bar', 'namnum', 20]\n"
     ]
    }
   ],
   "source": [
    "del a[3]\n",
    "print(a)"
   ]
  },
  {
   "cell_type": "code",
   "execution_count": 71,
   "id": "538340a6",
   "metadata": {},
   "outputs": [
    {
     "name": "stdout",
     "output_type": "stream",
     "text": [
      "['bar', 'baz', 'qux']\n",
      "['foo', 1.1, 2.2, 3.3, 4.4, 5.5, 'quux', 'corge']\n"
     ]
    }
   ],
   "source": [
    "a = ['foo', 'bar', 'baz', 'qux', 'quux', 'corge']\n",
    "\n",
    "print(a[1:4])\n",
    "\n",
    "a[1:4] = [1.1, 2.2, 3.3, 4.4, 5.5]\n",
    "\n",
    "print(a)"
   ]
  },
  {
   "cell_type": "code",
   "execution_count": 72,
   "id": "7396199e",
   "metadata": {},
   "outputs": [
    {
     "name": "stdout",
     "output_type": "stream",
     "text": [
      "foo\n",
      "corge\n"
     ]
    }
   ],
   "source": [
    "t = ('foo', 'bar', 'baz', 'qux', 'quux', 'corge')\n",
    "print(t[0])\n",
    "\n",
    "print(t[-1])"
   ]
  },
  {
   "cell_type": "code",
   "execution_count": 73,
   "id": "76eda340",
   "metadata": {},
   "outputs": [
    {
     "data": {
      "text/plain": [
       "'foo'"
      ]
     },
     "execution_count": 73,
     "metadata": {},
     "output_type": "execute_result"
    }
   ],
   "source": [
    "(s1, s2, s3, s4) = ('foo', 'bar', 'baz', 'qux')\n",
    "\n",
    "s1"
   ]
  },
  {
   "cell_type": "code",
   "execution_count": 74,
   "id": "e70b55a6",
   "metadata": {},
   "outputs": [],
   "source": [
    "MLB_team = {\n",
    "    'Colorado': 'Rockies',\n",
    "    'Boston': 'Red Sox',\n",
    "    'Minnesota': 'Twins',\n",
    "    'Milwaukee': 'Brewers',\n",
    "    'Seattle': 'Mariners'\n",
    "}"
   ]
  },
  {
   "cell_type": "code",
   "execution_count": 75,
   "id": "f86228b7",
   "metadata": {},
   "outputs": [
    {
     "name": "stdout",
     "output_type": "stream",
     "text": [
      "Twins\n",
      "Rockies\n"
     ]
    }
   ],
   "source": [
    "print(MLB_team['Minnesota'])\n",
    "print(MLB_team['Colorado'])"
   ]
  },
  {
   "cell_type": "code",
   "execution_count": 76,
   "id": "33f56384",
   "metadata": {},
   "outputs": [
    {
     "data": {
      "text/plain": [
       "{'Colorado': 'Rockies',\n",
       " 'Boston': 'Red Sox',\n",
       " 'Minnesota': 'Twins',\n",
       " 'Milwaukee': 'Brewers',\n",
       " 'Seattle': 'Mariners',\n",
       " 'Kansas City': 'Royals'}"
      ]
     },
     "execution_count": 76,
     "metadata": {},
     "output_type": "execute_result"
    }
   ],
   "source": [
    "MLB_team['Kansas City'] = 'Royals'\n",
    "MLB_team"
   ]
  },
  {
   "cell_type": "code",
   "execution_count": 77,
   "id": "e637c772",
   "metadata": {},
   "outputs": [
    {
     "data": {
      "text/plain": [
       "{'Colorado': 'Rockies',\n",
       " 'Boston': 'Red Sox',\n",
       " 'Minnesota': 'Twins',\n",
       " 'Milwaukee': 'Brewers',\n",
       " 'Seattle': 'Seahawks',\n",
       " 'Kansas City': 'Royals'}"
      ]
     },
     "execution_count": 77,
     "metadata": {},
     "output_type": "execute_result"
    }
   ],
   "source": [
    "MLB_team['Seattle'] = 'Seahawks'\n",
    "MLB_team"
   ]
  },
  {
   "cell_type": "code",
   "execution_count": 79,
   "id": "008ab73e",
   "metadata": {},
   "outputs": [],
   "source": [
    "tim = {}\n",
    "type(tim)\n",
    "\n",
    "tim['fname'] = 'Hack'\n",
    "tim['lname'] = 'PTP'\n",
    "tim['age'] = 51\n",
    "tim['spouse'] = 'Edna'\n",
    "tim['children'] = ['Ralph', 'Betty', 'Joey']\n",
    "tim['pets'] = {'dog': 'Fido', 'cat': 'Sox'}"
   ]
  },
  {
   "cell_type": "code",
   "execution_count": 80,
   "id": "e1ab523f",
   "metadata": {},
   "outputs": [
    {
     "data": {
      "text/plain": [
       "{'fname': 'Hack',\n",
       " 'lname': 'PTP',\n",
       " 'age': 51,\n",
       " 'spouse': 'Edna',\n",
       " 'children': ['Ralph', 'Betty', 'Joey'],\n",
       " 'pets': {'dog': 'Fido', 'cat': 'Sox'}}"
      ]
     },
     "execution_count": 80,
     "metadata": {},
     "output_type": "execute_result"
    }
   ],
   "source": [
    "tim"
   ]
  },
  {
   "cell_type": "code",
   "execution_count": 81,
   "id": "1bbc7f49",
   "metadata": {},
   "outputs": [
    {
     "name": "stdout",
     "output_type": "stream",
     "text": [
      "Hack\n",
      "PTP\n"
     ]
    }
   ],
   "source": [
    "print(tim['fname'])\n",
    "print(tim['lname'])"
   ]
  },
  {
   "cell_type": "code",
   "execution_count": 82,
   "id": "059c8b28",
   "metadata": {},
   "outputs": [
    {
     "name": "stdout",
     "output_type": "stream",
     "text": [
      "['Ralph', 'Betty', 'Joey']\n",
      "Betty\n"
     ]
    }
   ],
   "source": [
    "print(tim['children'])\n",
    "print(tim['children'][1])"
   ]
  },
  {
   "cell_type": "code",
   "execution_count": 86,
   "id": "7dfa8350",
   "metadata": {},
   "outputs": [
    {
     "name": "stdout",
     "output_type": "stream",
     "text": [
      "{'dog': 'Fido', 'cat': 'Sox'}\n",
      "Sox\n"
     ]
    },
    {
     "data": {
      "text/plain": [
       "{'dog': 'Fido', 'cat': 'Sox'}"
      ]
     },
     "execution_count": 86,
     "metadata": {},
     "output_type": "execute_result"
    }
   ],
   "source": [
    "print(person['pets'])\n",
    "print(person['pets']['cat'])\n",
    "{'dog': 'Fido', 'cat': 'Sox'}\n"
   ]
  },
  {
   "cell_type": "code",
   "execution_count": 87,
   "id": "71285387",
   "metadata": {},
   "outputs": [
    {
     "name": "stdout",
     "output_type": "stream",
     "text": [
      "dict_items([('a', 10), ('b', 20), ('c', 30)])\n",
      "dict_keys(['a', 'b', 'c'])\n",
      "dict_values([10, 20, 30])\n"
     ]
    }
   ],
   "source": [
    "d = {'a': 10, 'b': 20, 'c': 30}\n",
    "\n",
    "# items\n",
    "print(d.items())\n",
    "\n",
    "# keys\n",
    "print(d.keys())\n",
    "\n",
    "# values\n",
    "print(d.values())"
   ]
  },
  {
   "cell_type": "code",
   "execution_count": 88,
   "id": "48849bd6",
   "metadata": {},
   "outputs": [
    {
     "data": {
      "text/plain": [
       "True"
      ]
     },
     "execution_count": 88,
     "metadata": {},
     "output_type": "execute_result"
    }
   ],
   "source": [
    "person1_age = 42\n",
    "person2_age = 16\n",
    "person3_age = 71\n",
    "\n",
    "someone_is_of_working_age = (person1_age >= 18 and person1_age <= 65) or (person2_age >= 18 and person2_age <= 65) or (person3_age >= 18 and person3_age <= 65)\n",
    "someone_is_of_working_age"
   ]
  },
  {
   "cell_type": "code",
   "execution_count": 90,
   "id": "888de9c7",
   "metadata": {},
   "outputs": [
    {
     "data": {
      "text/plain": [
       "True"
      ]
     },
     "execution_count": 90,
     "metadata": {},
     "output_type": "execute_result"
    }
   ],
   "source": [
    "someone_is_of_working_age = (\n",
    "    (person1_age >= 18 and person1_age <= 65)\n",
    "    or (person2_age >= 18 and person2_age <= 65)\n",
    "    or (person3_age >= 18 and person3_age <= 65)\n",
    ")\n",
    "\n",
    "someone_is_of_working_age"
   ]
  },
  {
   "cell_type": "code",
   "execution_count": null,
   "id": "cb1c21bd",
   "metadata": {},
   "outputs": [],
   "source": []
  }
 ],
 "metadata": {
  "kernelspec": {
   "display_name": "Python 3",
   "language": "python",
   "name": "python3"
  },
  "language_info": {
   "codemirror_mode": {
    "name": "ipython",
    "version": 3
   },
   "file_extension": ".py",
   "mimetype": "text/x-python",
   "name": "python",
   "nbconvert_exporter": "python",
   "pygments_lexer": "ipython3",
   "version": "3.8.8"
  }
 },
 "nbformat": 4,
 "nbformat_minor": 5
}
